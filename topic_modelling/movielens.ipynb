{
 "cells": [
  {
   "cell_type": "code",
   "execution_count": 166,
   "metadata": {},
   "outputs": [],
   "source": [
    "%matplotlib inline\n",
    "import numpy as np\n",
    "import matplotlib.pyplot as plt\n",
    "import pandas as pd"
   ]
  },
  {
   "cell_type": "code",
   "execution_count": 439,
   "metadata": {},
   "outputs": [
    {
     "name": "stdout",
     "output_type": "stream",
     "text": [
      "90.0\n",
      "(943, 18)\n"
     ]
    }
   ],
   "source": [
    "logH = np.genfromtxt('logH.txt')\n",
    "logW = np.genfromtxt('logW.txt')\n",
    "S_ipk = np.genfromtxt('S_ipk.txt')\n",
    "S_pjk = np.genfromtxt('S_pjk.txt')\n",
    "X_full = np.genfromtxt('X_full.txt')\n",
    "X_orig = np.genfromtxt('X_orig.txt')\n",
    "X_orig[np.isnan(X_orig)] = 0\n",
    "\n",
    "print(X_full.max())\n",
    "print(S_ipk.shape)"
   ]
  },
  {
   "cell_type": "code",
   "execution_count": 395,
   "metadata": {},
   "outputs": [],
   "source": [
    "movies = pd.read_csv('u.item', delimiter='|', header=None, usecols=[0, 1, 2], names=['ID', 'Movie', 'Date']).set_index('ID')"
   ]
  },
  {
   "cell_type": "code",
   "execution_count": 396,
   "metadata": {},
   "outputs": [],
   "source": [
    "users = pd.read_csv('u.user', delimiter='|', header=None, usecols=[0, 1, 2, 3], names=['ID', 'Age', 'Gender', 'Job']).set_index('ID')"
   ]
  },
  {
   "cell_type": "code",
   "execution_count": 593,
   "metadata": {},
   "outputs": [
    {
     "name": "stdout",
     "output_type": "stream",
     "text": [
      "[278 275 404 285 471 290 550 681 434 806]\n",
      "Age               33\n",
      "Gender             M\n",
      "Job       programmer\n",
      "Name: 279, dtype: object\n",
      "Age            21\n",
      "Gender          M\n",
      "Job       student\n",
      "Name: 276, dtype: object\n",
      "Age               22\n",
      "Gender             F\n",
      "Job       healthcare\n",
      "Name: 405, dtype: object\n",
      "Age            27\n",
      "Gender          M\n",
      "Job       student\n",
      "Name: 286, dtype: object\n",
      "Age            24\n",
      "Gender          M\n",
      "Job       student\n",
      "Name: 472, dtype: object\n",
      "Age            19\n",
      "Gender          M\n",
      "Job       student\n",
      "Name: 291, dtype: object\n",
      "Age               25\n",
      "Gender             M\n",
      "Job       programmer\n",
      "Name: 551, dtype: object\n",
      "Age               23\n",
      "Gender             M\n",
      "Job       programmer\n",
      "Name: 682, dtype: object\n",
      "Age             24\n",
      "Gender           M\n",
      "Job       engineer\n",
      "Name: 435, dtype: object\n",
      "Age               41\n",
      "Gender             F\n",
      "Job       healthcare\n",
      "Name: 807, dtype: object\n"
     ]
    }
   ],
   "source": [
    "#S_pjk = S_pjk / S_pjk.sum()\n",
    "topic = S_ipk[:, 6]\n",
    "idx = topic.argsort()[-10:][::-1]\n",
    "#idx = np.where(topic > np.percentile(topic, 99))[0]\n",
    "print(idx)\n",
    "\n",
    "for user_id in idx:\n",
    "    print(users.loc[user_id + 1])"
   ]
  },
  {
   "cell_type": "markdown",
   "metadata": {},
   "source": [
    "11 - scifi\n",
    "6 - horror\n",
    "3 - drama/crime\n",
    "9 - adventure"
   ]
  },
  {
   "cell_type": "code",
   "execution_count": 552,
   "metadata": {},
   "outputs": [
    {
     "name": "stdout",
     "output_type": "stream",
     "text": [
      "Movie    Usual Suspects, The (1995)\n",
      "Date                    14-Aug-1995\n",
      "Name: 12, dtype: object\n",
      "Movie    Casablanca (1942)\n",
      "Date           01-Jan-1942\n",
      "Name: 483, dtype: object\n",
      "Movie    Schindler's List (1993)\n",
      "Date                 01-Jan-1993\n",
      "Name: 318, dtype: object\n",
      "Movie    GoodFellas (1990)\n",
      "Date           01-Jan-1990\n",
      "Name: 182, dtype: object\n",
      "Movie    Citizen Kane (1941)\n",
      "Date             01-Jan-1941\n",
      "Name: 134, dtype: object\n",
      "Movie    Three Colors: Red (1994)\n",
      "Date                  01-Jan-1994\n",
      "Name: 59, dtype: object\n",
      "Movie    Princess Bride, The (1987)\n",
      "Date                    01-Jan-1987\n",
      "Name: 173, dtype: object\n",
      "Movie    Brazil (1985)\n",
      "Date       01-Jan-1985\n",
      "Name: 175, dtype: object\n",
      "Movie    Wizard of Oz, The (1939)\n",
      "Date                  01-Jan-1939\n",
      "Name: 132, dtype: object\n",
      "Movie    Raising Arizona (1987)\n",
      "Date                01-Jan-1987\n",
      "Name: 238, dtype: object\n",
      "Movie    Vertigo (1958)\n",
      "Date        01-Jan-1958\n",
      "Name: 479, dtype: object\n",
      "Movie    Dr. Strangelove or: How I Learned to Stop Worr...\n",
      "Date                                           01-Jan-1963\n",
      "Name: 474, dtype: object\n",
      "Movie    Hoop Dreams (1994)\n",
      "Date            01-Jan-1994\n",
      "Name: 48, dtype: object\n",
      "Movie    It's a Wonderful Life (1946)\n",
      "Date                      01-Jan-1946\n",
      "Name: 496, dtype: object\n",
      "Movie    Taxi Driver (1976)\n",
      "Date            16-Feb-1996\n",
      "Name: 23, dtype: object\n",
      "Movie    Manchurian Candidate, The (1962)\n",
      "Date                          01-Jan-1962\n",
      "Name: 657, dtype: object\n",
      "Movie    Dead Poets Society (1989)\n",
      "Date                   01-Jan-1989\n",
      "Name: 196, dtype: object\n",
      "Movie    Apocalypse Now (1979)\n",
      "Date               01-Jan-1979\n",
      "Name: 180, dtype: object\n",
      "Movie    Cinema Paradiso (1988)\n",
      "Date                01-Jan-1988\n",
      "Name: 170, dtype: object\n",
      "Movie    Killing Fields, The (1984)\n",
      "Date                    01-Jan-1984\n",
      "Name: 528, dtype: object\n",
      "Movie    Lone Star (1996)\n",
      "Date          21-Jun-1996\n",
      "Name: 124, dtype: object\n",
      "Movie    Sling Blade (1996)\n",
      "Date            22-Nov-1996\n",
      "Name: 223, dtype: object\n",
      "Movie    Unforgiven (1992)\n",
      "Date           01-Jan-1992\n",
      "Name: 203, dtype: object\n",
      "Movie    Third Man, The (1949)\n",
      "Date               01-Jan-1949\n",
      "Name: 513, dtype: object\n",
      "Movie    This Is Spinal Tap (1984)\n",
      "Date                   01-Jan-1984\n",
      "Name: 209, dtype: object\n",
      "Movie    Clockwork Orange, A (1971)\n",
      "Date                    01-Jan-1971\n",
      "Name: 179, dtype: object\n",
      "Movie    12 Angry Men (1957)\n",
      "Date             01-Jan-1957\n",
      "Name: 178, dtype: object\n",
      "Movie    Remains of the Day, The (1993)\n",
      "Date                        01-Jan-1993\n",
      "Name: 86, dtype: object\n",
      "Movie    Shine (1996)\n",
      "Date      22-Nov-1996\n",
      "Name: 531, dtype: object\n",
      "Movie    Three Colors: Blue (1993)\n",
      "Date                   01-Jan-1993\n",
      "Name: 60, dtype: object\n",
      "Movie    Fish Called Wanda, A (1988)\n",
      "Date                     01-Jan-1988\n",
      "Name: 153, dtype: object\n",
      "Movie    Nikita (La Femme Nikita) (1990)\n",
      "Date                         01-Jan-1990\n",
      "Name: 198, dtype: object\n",
      "Movie    Much Ado About Nothing (1993)\n",
      "Date                       01-Jan-1993\n",
      "Name: 83, dtype: object\n",
      "Movie    Piano, The (1993)\n",
      "Date           01-Jan-1993\n",
      "Name: 582, dtype: object\n",
      "Movie    Get Shorty (1995)\n",
      "Date           01-Jan-1995\n",
      "Name: 4, dtype: object\n",
      "Movie    Monty Python's Life of Brian (1979)\n",
      "Date                             01-Jan-1979\n",
      "Name: 154, dtype: object\n",
      "Movie    Heathers (1989)\n",
      "Date         01-Jan-1989\n",
      "Name: 433, dtype: object\n",
      "Movie    Gone with the Wind (1939)\n",
      "Date                   01-Jan-1939\n",
      "Name: 133, dtype: object\n",
      "Movie    Bonnie and Clyde (1967)\n",
      "Date                 01-Jan-1967\n",
      "Name: 504, dtype: object\n",
      "Movie    Quiz Show (1994)\n",
      "Date          01-Jan-1994\n",
      "Name: 58, dtype: object\n",
      "Movie    Strictly Ballroom (1992)\n",
      "Date                  01-Jan-1992\n",
      "Name: 709, dtype: object\n",
      "Movie    Groundhog Day (1993)\n",
      "Date              01-Jan-1993\n",
      "Name: 202, dtype: object\n",
      "Movie    Full Metal Jacket (1987)\n",
      "Date                  01-Jan-1987\n",
      "Name: 188, dtype: object\n",
      "Movie    Ed Wood (1994)\n",
      "Date        01-Jan-1994\n",
      "Name: 47, dtype: object\n",
      "Movie    Sex, Lies, and Videotape (1989)\n",
      "Date                         01-Jan-1989\n",
      "Name: 708, dtype: object\n",
      "Movie    Breaking the Waves (1996)\n",
      "Date                   15-Nov-1996\n",
      "Name: 221, dtype: object\n",
      "Movie    My Left Foot (1989)\n",
      "Date             01-Jan-1989\n",
      "Name: 509, dtype: object\n",
      "Movie    Deer Hunter, The (1978)\n",
      "Date                 01-Jan-1978\n",
      "Name: 521, dtype: object\n",
      "Movie    Dave (1993)\n",
      "Date     01-Jan-1993\n",
      "Name: 732, dtype: object\n",
      "Movie    Hudsucker Proxy, The (1994)\n",
      "Date                     01-Jan-1994\n",
      "Name: 81, dtype: object\n"
     ]
    }
   ],
   "source": [
    "#S_pjk = S_pjk / S_pjk.sum()\n",
    "topic_mat = mat# / S_pjk.sum(axis=1)[:, None]\n",
    "topic = topic_mat[:, 10]\n",
    "#idx = np.where(topic > np.percentile(topic, 99))[0]\n",
    "idx = topic.argsort()[-50:][::-1]\n",
    "\n",
    "for movie_id in idx:\n",
    "    print(movies.loc[movie_id + 1])"
   ]
  },
  {
   "cell_type": "markdown",
   "metadata": {},
   "source": [
    "## Document-Topic Distribution"
   ]
  },
  {
   "cell_type": "code",
   "execution_count": 652,
   "metadata": {},
   "outputs": [
    {
     "data": {
      "image/png": "[encoded data removed]",
      "text/plain": [
       "<Figure size 432x288 with 1 Axes>"
      ]
     },
     "metadata": {},
     "output_type": "display_data"
    }
   ],
   "source": [
    "mat = S_pjk.copy()\n",
    "k = 2\n",
    "for row in mat:\n",
    "    sort_idx = np.argsort(row)[::-1]\n",
    "    mask = np.ones(len(row), dtype=bool)\n",
    "    mask[sort_idx[:k]] = False\n",
    "    row[mask] = 0\n",
    "\n",
    "#mat[mat < 150] = 0\n",
    "idx = np.arange(1682)\n",
    "shuffle(idx)\n",
    "idx = idx[:80]\n",
    "fig = plt.figure()\n",
    "\n",
    "mat_show = mat[idx, :].transpose().copy()\n",
    "# normalize each movie column so that topics are visible\n",
    "mat_show = mat_show / np.sum(mat_show, axis=0)\n",
    "\n",
    "plt.imshow(mat_show, cmap='viridis')\n",
    "plt.xlabel('80 randomly selected movies')\n",
    "plt.ylabel('Topics');\n",
    "\n",
    "fig.savefig('figure/movie_topic_mat.eps', format='eps', bbox_inches='tight')"
   ]
  },
  {
   "cell_type": "markdown",
   "metadata": {},
   "source": [
    "## User-Topic Distribution"
   ]
  },
  {
   "cell_type": "code",
   "execution_count": 673,
   "metadata": {},
   "outputs": [
    {
     "data": {
      "image/png": "[encoded data removed]",
      "text/plain": [
       "<Figure size 432x288 with 1 Axes>"
      ]
     },
     "metadata": {},
     "output_type": "display_data"
    }
   ],
   "source": [
    "user_mat = S_ipk.copy()\n",
    "idx = np.arange(943)\n",
    "shuffle(idx)\n",
    "idx = idx[:80]\n",
    "\n",
    "fig = plt.figure()\n",
    "plt.imshow(user_mat[idx, :].T)\n",
    "plt.xlabel('80 randomly selected users')\n",
    "plt.ylabel('Topics');\n",
    "fig.savefig('figure/user_topic_mat.eps', format='eps', bbox_inches='tight')"
   ]
  },
  {
   "cell_type": "code",
   "execution_count": 635,
   "metadata": {},
   "outputs": [],
   "source": [
    "topic_mat = mat"
   ]
  },
  {
   "cell_type": "code",
   "execution_count": 636,
   "metadata": {},
   "outputs": [
    {
     "name": "stdout",
     "output_type": "stream",
     "text": [
      "Silence of the Lambs, The (1991)\n",
      "Shining, The (1980)\n",
      "Psycho (1960)\n",
      "Cape Fear (1991)\n",
      "Jaws (1975)\n",
      "Nightmare on Elm Street, A (1984)\n",
      "Fugitive, The (1993)\n",
      "Carrie (1976)\n",
      "Aliens (1986)\n",
      "Omen, The (1976)\n"
     ]
    }
   ],
   "source": [
    "# horror\n",
    "scifi = topic_mat[:, 6]\n",
    "idx = scifi.argsort()[-10:][::-1]\n",
    "for movie_id in idx:\n",
    "    print(movies.loc[movie_id + 1]['Movie'])"
   ]
  },
  {
   "cell_type": "code",
   "execution_count": 639,
   "metadata": {},
   "outputs": [
    {
     "name": "stdout",
     "output_type": "stream",
     "text": [
      "Raiders of the Lost Ark (1981)\n",
      "Casablanca (1942)\n",
      "Schindler's List (1993)\n",
      "Star Wars (1977)\n",
      "Rear Window (1954)\n",
      "Dr. Strangelove or: How I Learned to Stop Worrying and Love the Bomb (1963)\n",
      "Silence of the Lambs, The (1991)\n",
      "Usual Suspects, The (1995)\n",
      "North by Northwest (1959)\n",
      "Graduate, The (1967)\n",
      "Citizen Kane (1941)\n",
      "Psycho (1960)\n",
      "Sting, The (1973)\n",
      "Vertigo (1958)\n",
      "Godfather, The (1972)\n",
      "Godfather: Part II, The (1974)\n",
      "Amadeus (1984)\n",
      "Princess Bride, The (1987)\n",
      "Cool Hand Luke (1967)\n",
      "One Flew Over the Cuckoo's Nest (1975)\n",
      "Blade Runner (1982)\n",
      "2001: A Space Odyssey (1968)\n",
      "Apocalypse Now (1979)\n",
      "It's a Wonderful Life (1946)\n",
      "Pulp Fiction (1994)\n",
      "Clockwork Orange, A (1971)\n",
      "Fugitive, The (1993)\n",
      "Shawshank Redemption, The (1994)\n",
      "Groundhog Day (1993)\n",
      "M*A*S*H (1970)\n"
     ]
    }
   ],
   "source": [
    "# crime (kinda noisy)\n",
    "scifi = topic_mat[:, 3]\n",
    "idx = scifi.argsort()[-30:][::-1]\n",
    "for movie_id in idx:\n",
    "    print(movies.loc[movie_id + 1]['Movie'])"
   ]
  },
  {
   "cell_type": "code",
   "execution_count": 655,
   "metadata": {},
   "outputs": [
    {
     "name": "stdout",
     "output_type": "stream",
     "text": [
      "Age               33\n",
      "Gender             M\n",
      "Job       programmer\n",
      "Name: 279, dtype: object\n",
      "Age            21\n",
      "Gender          M\n",
      "Job       student\n",
      "Name: 276, dtype: object\n",
      "Age               22\n",
      "Gender             F\n",
      "Job       healthcare\n",
      "Name: 405, dtype: object\n",
      "Age            27\n",
      "Gender          M\n",
      "Job       student\n",
      "Name: 286, dtype: object\n",
      "Age            24\n",
      "Gender          M\n",
      "Job       student\n",
      "Name: 472, dtype: object\n",
      "Age            19\n",
      "Gender          M\n",
      "Job       student\n",
      "Name: 291, dtype: object\n",
      "Age               25\n",
      "Gender             M\n",
      "Job       programmer\n",
      "Name: 551, dtype: object\n",
      "Age               23\n",
      "Gender             M\n",
      "Job       programmer\n",
      "Name: 682, dtype: object\n",
      "Age             24\n",
      "Gender           M\n",
      "Job       engineer\n",
      "Name: 435, dtype: object\n",
      "Age               41\n",
      "Gender             F\n",
      "Job       healthcare\n",
      "Name: 807, dtype: object\n"
     ]
    }
   ],
   "source": [
    "# horror\n",
    "topic = S_ipk[:, 6]\n",
    "idx = topic.argsort()[-10:][::-1]\n",
    "\n",
    "for user_id in idx:\n",
    "    print(users.loc[user_id + 1])"
   ]
  },
  {
   "cell_type": "code",
   "execution_count": 654,
   "metadata": {},
   "outputs": [
    {
     "name": "stdout",
     "output_type": "stream",
     "text": [
      "Age             61\n",
      "Gender           M\n",
      "Job       engineer\n",
      "Name: 934, dtype: object\n",
      "Age           33\n",
      "Gender         M\n",
      "Job       artist\n",
      "Name: 381, dtype: object\n",
      "Age           39\n",
      "Gender         M\n",
      "Job       artist\n",
      "Name: 840, dtype: object\n",
      "Age                  44\n",
      "Gender                M\n",
      "Job       administrator\n",
      "Name: 666, dtype: object\n",
      "Age             46\n",
      "Gender           M\n",
      "Job       engineer\n",
      "Name: 848, dtype: object\n",
      "Age              42\n",
      "Gender            M\n",
      "Job       executive\n",
      "Name: 6, dtype: object\n",
      "Age             30\n",
      "Gender           M\n",
      "Job       engineer\n",
      "Name: 664, dtype: object\n",
      "Age             51\n",
      "Gender           M\n",
      "Job       educator\n",
      "Name: 85, dtype: object\n",
      "Age             38\n",
      "Gender           M\n",
      "Job       engineer\n",
      "Name: 233, dtype: object\n",
      "Age          32\n",
      "Gender        M\n",
      "Job       other\n",
      "Name: 815, dtype: object\n"
     ]
    }
   ],
   "source": [
    "# crime\n",
    "topic = S_ipk[:, 3]\n",
    "idx = topic.argsort()[-10:][::-1]\n",
    "\n",
    "for user_id in idx:\n",
    "    print(users.loc[user_id + 1])"
   ]
  }
 ],
 "metadata": {
  "kernelspec": {
   "display_name": "Python 3",
   "language": "python",
   "name": "python3"
  },
  "language_info": {
   "codemirror_mode": {
    "name": "ipython",
    "version": 3
   },
   "file_extension": ".py",
   "mimetype": "text/x-python",
   "name": "python",
   "nbconvert_exporter": "python",
   "pygments_lexer": "ipython3",
   "version": "3.6.4"
  }
 },
 "nbformat": 4,
 "nbformat_minor": 2
}
