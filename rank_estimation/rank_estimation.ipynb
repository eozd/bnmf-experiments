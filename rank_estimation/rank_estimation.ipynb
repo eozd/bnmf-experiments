{
 "cells": [
  {
   "cell_type": "code",
   "execution_count": 1,
   "metadata": {},
   "outputs": [],
   "source": [
    "%matplotlib inline\n",
    "import numpy as np\n",
    "import matplotlib.pyplot as plt\n",
    "import subprocess"
   ]
  },
  {
   "cell_type": "markdown",
   "metadata": {},
   "source": [
    "## Build"
   ]
  },
  {
   "cell_type": "code",
   "execution_count": 2,
   "metadata": {},
   "outputs": [
    {
     "name": "stdout",
     "output_type": "stream",
     "text": [
      "-- Using GSL from \n",
      "-- FindGSL: Found both GSL headers and library\n",
      "-- Configuring done\n",
      "-- Generating done\n",
      "-- Build files have been written to: /home/eozd/projects/bnmf-algs/rank_estimation/build\n",
      "[100%] Built target rank_estimation\n"
     ]
    },
    {
     "name": "stderr",
     "output_type": "stream",
     "text": [
      "GSL_DEFINITIONS=\n",
      "GSL_INCLUDE_DIRS=/usr/include\n",
      "GSL_CFLAGS=-I/usr/include\n"
     ]
    }
   ],
   "source": [
    "%%sh\n",
    "./build.sh"
   ]
  },
  {
   "cell_type": "markdown",
   "metadata": {},
   "source": [
    "## Run"
   ]
  },
  {
   "cell_type": "code",
   "execution_count": 3,
   "metadata": {},
   "outputs": [],
   "source": [
    "from matplotlib import rc\n",
    "rc('font',**{'family':'sans-serif','sans-serif':['Helvetica']})\n",
    "## for Palatino and other serif fonts use:\n",
    "#rc('font',**{'family':'serif','serif':['Palatino']})\n",
    "rc('text', usetex=True)"
   ]
  },
  {
   "cell_type": "code",
   "execution_count": 14,
   "metadata": {},
   "outputs": [
    {
     "name": "stderr",
     "output_type": "stream",
     "text": [
      "/home/eozd/anaconda3/lib/python3.6/site-packages/matplotlib/font_manager.py:1328: UserWarning: findfont: Font family ['sans-serif'] not found. Falling back to DejaVu Sans\n",
      "  (prop.get_family(), self.defaultFamily[fontext]))\n",
      "/home/eozd/anaconda3/lib/python3.6/site-packages/matplotlib/font_manager.py:1328: UserWarning: findfont: Font family ['sans-serif'] not found. Falling back to DejaVu Sans\n",
      "  (prop.get_family(), self.defaultFamily[fontext]))\n",
      "/home/eozd/anaconda3/lib/python3.6/site-packages/matplotlib/font_manager.py:1328: UserWarning: findfont: Font family ['sans-serif'] not found. Falling back to DejaVu Sans\n",
      "  (prop.get_family(), self.defaultFamily[fontext]))\n"
     ]
    },
    {
     "data": {
      "image/png": "[encoded data removed]",
      "text/plain": [
       "<Figure size 432x288 with 1 Axes>"
      ]
     },
     "metadata": {},
     "output_type": "display_data"
    }
   ],
   "source": [
    "component_arr = np.arange(4) + 1\n",
    "gamma_arr = np.array([0.01, 0.1, 1])\n",
    "\n",
    "fig = plt.figure()\n",
    "for gamma in gamma_arr:\n",
    "    values = []\n",
    "    for n_components in component_arr:\n",
    "        cmd = './build/rank_estimation X.txt {} {}'.format(n_components, gamma)\n",
    "        marginal = subprocess.check_output(cmd, shell=True).decode('utf-8')\n",
    "        marginal_float = float(marginal)\n",
    "        values.append(marginal_float)\n",
    "    \n",
    "    plt.plot(values, label=r'$\\gamma = {}$'.format(gamma), marker='o')\n",
    "    \n",
    "plt.legend(fontsize='xx-large', loc=(0.6, 0.5))\n",
    "plt.xlabel('$K$ (Rank)', fontsize=19)\n",
    "plt.ylabel('$p(X|\\Theta(\\gamma, K))$ (Likelihood)', fontsize=19);\n",
    "fig.savefig('figure/rank_estimation.eps', format='eps', bbox_inches='tight')"
   ]
  }
 ],
 "metadata": {
  "kernelspec": {
   "display_name": "Python 3",
   "language": "python",
   "name": "python3"
  },
  "language_info": {
   "codemirror_mode": {
    "name": "ipython",
    "version": 3
   },
   "file_extension": ".py",
   "mimetype": "text/x-python",
   "name": "python",
   "nbconvert_exporter": "python",
   "pygments_lexer": "ipython3",
   "version": "3.6.4"
  }
 },
 "nbformat": 4,
 "nbformat_minor": 2
}
